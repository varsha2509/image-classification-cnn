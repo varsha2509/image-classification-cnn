{
  "nbformat": 4,
  "nbformat_minor": 0,
  "metadata": {
    "colab": {
      "name": "DeepSat6-CNN-Model-Comparison",
      "provenance": [],
      "collapsed_sections": [],
      "toc_visible": true,
      "authorship_tag": "ABX9TyMBxZob1jvKLuXDX0po7QgD",
      "include_colab_link": true
    },
    "kernelspec": {
      "name": "python3",
      "display_name": "Python 3"
    }
  },
  "cells": [
    {
      "cell_type": "markdown",
      "metadata": {
        "id": "view-in-github",
        "colab_type": "text"
      },
      "source": [
        "<a href=\"https://colab.research.google.com/github/varsha2509/Springboard-DS/blob/master/Capstone2/Colab/DeepSat6_CNN_Model_Comparison.ipynb\" target=\"_parent\"><img src=\"https://colab.research.google.com/assets/colab-badge.svg\" alt=\"Open In Colab\"/></a>"
      ]
    },
    {
      "cell_type": "code",
      "metadata": {
        "id": "SPWPb2hqysw-",
        "outputId": "b42ae34c-8c3a-491a-cc49-97088df09d26",
        "colab": {
          "base_uri": "https://localhost:8080/",
          "height": 35
        }
      },
      "source": [
        "#Install Packages and Mount Google Drive\n",
        "import pandas as pd\n",
        "import numpy as np\n",
        "import cv2\n",
        "import h5py\n",
        "import csv\n",
        "from scipy.io import loadmat\n",
        "import matplotlib.pyplot as plt \n",
        "from google.colab import drive\n",
        "import os\n",
        "from os import listdir\n",
        "\n",
        "from numpy import asarray\n",
        "\n",
        "from sklearn.ensemble import RandomForestClassifier\n",
        "from sklearn.pipeline import Pipeline\n",
        "\n",
        "from PIL import Image\n",
        "from PIL import ImageFile\n",
        "ImageFile.LOAD_TRUNCATED_IMAGES = True\n",
        "\n",
        "import tensorflow as tf\n",
        "from tensorflow.keras import layers, models\n",
        "from keras.preprocessing import image\n",
        "from tensorflow import keras\n",
        "\n",
        "from tensorflow.keras.preprocessing.image import ImageDataGenerator\n",
        "from keras.callbacks import TensorBoard\n",
        "from keras.layers import Conv2D, MaxPool2D, Dense, Dropout, Flatten, ZeroPadding2D\n",
        "from keras.models import Sequential, Model\n",
        "from keras.applications import vgg16\n",
        "from keras import backend as K\n",
        "from keras import models    \n",
        "from keras.models import load_model\n",
        "from keras.models import model_from_json\n",
        "from sklearn.metrics import balanced_accuracy_score\n",
        "\n",
        "from matplotlib.colors import ListedColormap\n",
        "\n",
        "\n",
        "from multiprocessing.pool import ThreadPool\n",
        "\n",
        "\n",
        "\n",
        "from keras.callbacks import EarlyStopping, ModelCheckpoint\n",
        "\n",
        "# load vgg model\n",
        "from keras.applications.vgg16 import VGG16\n",
        "\n",
        "\n",
        "from skimage.io import imread\n",
        "\n",
        "from glob import glob\n",
        "\n",
        "from sklearn.metrics import classification_report, confusion_matrix, accuracy_score\n",
        "\n",
        "os.environ['KAGGLE_CONFIG_DIR'] = \"/content/gdrive/My Drive/Springboard/Capstone Projects/Capstone-2/DeepSat-6-Dataset/\"\n",
        "\n",
        "#Mount the drive to colab notebook\n",
        "drive.mount('/content/gdrive')\n"
      ],
      "execution_count": null,
      "outputs": [
        {
          "output_type": "stream",
          "text": [
            "Mounted at /content/gdrive\n"
          ],
          "name": "stdout"
        }
      ]
    },
    {
      "cell_type": "code",
      "metadata": {
        "id": "OH0ZlLboyxj4",
        "outputId": "826cc2a5-828b-418f-9b68-4fec7dcec9a1",
        "colab": {
          "base_uri": "https://localhost:8080/",
          "height": 35
        }
      },
      "source": [
        "#Change the current working directory\n",
        "%cd /content/gdrive/My\\ Drive/Springboard/Capstone\\ Projects/Capstone-2/DeepSat-6-Dataset/\n"
      ],
      "execution_count": null,
      "outputs": [
        {
          "output_type": "stream",
          "text": [
            "/content/gdrive/My Drive/Springboard/Capstone Projects/Capstone-2/DeepSat-6-Dataset\n"
          ],
          "name": "stdout"
        }
      ]
    },
    {
      "cell_type": "markdown",
      "metadata": {
        "id": "IncMoV1uy4dP"
      },
      "source": [
        "#Loading weights for the different models"
      ]
    },
    {
      "cell_type": "markdown",
      "metadata": {
        "id": "C33m5wtjy9ff"
      },
      "source": [
        "##  Baseline CNN model"
      ]
    },
    {
      "cell_type": "code",
      "metadata": {
        "id": "M4yGWXy5y2i4",
        "outputId": "cf06f9ec-dd1e-47e4-f6f3-89ae0b7c477f",
        "colab": {
          "base_uri": "https://localhost:8080/",
          "height": 35
        }
      },
      "source": [
        "# load json and create model\n",
        "json_file = open('cnn-baseline.json', 'r')\n",
        "baseline_cnn_json = json_file.read()\n",
        "json_file.close()\n",
        "baseline_cnn = model_from_json(baseline_cnn_json)\n",
        "\n",
        "# load weights into new model\n",
        "baseline_cnn.load_weights(\"cnn-baseline.h5\")\n",
        "print(\"Loaded CNN baseline model from disk\")\n",
        " \n",
        "# # evaluate loaded model on test data\n",
        "# loaded_model.compile(loss='binary_crossentropy', optimizer='rmsprop', metrics=['accuracy'])\n",
        "# score = loaded_model.evaluate(X, Y, verbose=0)\n",
        "# print(\"%s: %.2f%%\" % (loaded_model.metrics_names[1], score[1]*100))"
      ],
      "execution_count": null,
      "outputs": [
        {
          "output_type": "stream",
          "text": [
            "Loaded CNN baseline model from disk\n"
          ],
          "name": "stdout"
        }
      ]
    },
    {
      "cell_type": "markdown",
      "metadata": {
        "id": "kngoX6OK1I6D"
      },
      "source": [
        "## TL-1 model - Transfer Learning with VGG6 and Padding input image"
      ]
    },
    {
      "cell_type": "code",
      "metadata": {
        "id": "StGTa4Xa1Hcj",
        "outputId": "ca9fb0cf-1557-463b-b211-d5e96c117006",
        "colab": {
          "base_uri": "https://localhost:8080/",
          "height": 35
        }
      },
      "source": [
        "# load json and create model\n",
        "json_file = open('vgg-base-padding.json', 'r')\n",
        "tl_1_json = json_file.read()\n",
        "json_file.close()\n",
        "tl_1 = model_from_json(tl_1_json)\n",
        "\n",
        "# load weights into new model\n",
        "tl_1.load_weights(\"vgg-base-padding.h5\")\n",
        "print(\"Loaded TL-1 model from disk\")\n",
        " \n",
        "# # evaluate loaded model on test data\n",
        "# loaded_model.compile(loss='binary_crossentropy', optimizer='rmsprop', metrics=['accuracy'])\n",
        "# score = loaded_model.evaluate(X, Y, verbose=0)\n",
        "# print(\"%s: %.2f%%\" % (loaded_model.metrics_names[1], score[1]*100))"
      ],
      "execution_count": null,
      "outputs": [
        {
          "output_type": "stream",
          "text": [
            "Loaded TL-1 model from disk\n"
          ],
          "name": "stdout"
        }
      ]
    },
    {
      "cell_type": "markdown",
      "metadata": {
        "id": "H9D5AP_z1kag"
      },
      "source": [
        "## TL-2 model - Transfer Learning with VGG6 and Upsampling input image"
      ]
    },
    {
      "cell_type": "code",
      "metadata": {
        "id": "andmq0j81iDj",
        "outputId": "c6308990-9968-4bad-ead3-9a67f2427bbe",
        "colab": {
          "base_uri": "https://localhost:8080/",
          "height": 35
        }
      },
      "source": [
        "# load json and create model\n",
        "json_file = open('vgg-base-upsampling.json', 'r')\n",
        "tl_2_json = json_file.read()\n",
        "json_file.close()\n",
        "tl_2 = model_from_json(tl_2_json)\n",
        "\n",
        "# load weights into new model\n",
        "tl_2.load_weights(\"vgg-base-upsampling.h5\")\n",
        "print(\"Loaded TL-2 model from disk\")\n",
        " \n",
        "# # evaluate loaded model on test data\n",
        "# loaded_model.compile(loss='binary_crossentropy', optimizer='rmsprop', metrics=['accuracy'])\n",
        "# score = loaded_model.evaluate(X, Y, verbose=0)\n",
        "# print(\"%s: %.2f%%\" % (loaded_model.metrics_names[1], score[1]*100))"
      ],
      "execution_count": null,
      "outputs": [
        {
          "output_type": "stream",
          "text": [
            "Loaded TL-2 model from disk\n"
          ],
          "name": "stdout"
        }
      ]
    },
    {
      "cell_type": "markdown",
      "metadata": {
        "id": "wO8KTOE91yg0"
      },
      "source": [
        "## TL-3 model - Transfer Learning with VGG16 with fine tuning and padding input image"
      ]
    },
    {
      "cell_type": "code",
      "metadata": {
        "id": "wQs8adup1vzP",
        "outputId": "26f40346-42d8-47ec-8443-2d222f19486a",
        "colab": {
          "base_uri": "https://localhost:8080/",
          "height": 35
        }
      },
      "source": [
        "# load json and create model\n",
        "json_file = open('vgg-finetuning-padding.json', 'r')\n",
        "tl_3_json = json_file.read()\n",
        "json_file.close()\n",
        "tl_3 = model_from_json(tl_3_json)\n",
        "\n",
        "# load weights into new model\n",
        "tl_3.load_weights(\"vgg-finetuning-padding.h5\")\n",
        "print(\"Loaded TL-3 model from disk\")\n",
        " \n",
        "# # evaluate loaded model on test data\n",
        "# loaded_model.compile(loss='binary_crossentropy', optimizer='rmsprop', metrics=['accuracy'])\n",
        "# score = loaded_model.evaluate(X, Y, verbose=0)\n",
        "# print(\"%s: %.2f%%\" % (loaded_model.metrics_names[1], score[1]*100))"
      ],
      "execution_count": null,
      "outputs": [
        {
          "output_type": "stream",
          "text": [
            "Loaded TL-3 model from disk\n"
          ],
          "name": "stdout"
        }
      ]
    },
    {
      "cell_type": "markdown",
      "metadata": {
        "id": "0q_ENU9S20LG"
      },
      "source": [
        "## Bar graph comparing the balanced accuracy score for each model\n",
        "\n",
        "\n",
        "\n"
      ]
    },
    {
      "cell_type": "code",
      "metadata": {
        "id": "V-nkgJBr2MUL"
      },
      "source": [
        "## Create a dataframe with balanced accuracy scores for different models\n",
        "model_comparison_scores = pd.DataFrame()\n",
        "model_comparison_scores['scores'] = [89.69, 94.04, 92.13, 90.00, 95.12]\n",
        "model_comparison_scores['names'] = ['Baseline Random Forest', 'Baseline CNN', 'Transfer Learning with Vgg16 (Padding Input Image)', 'Transfer Learning with Vgg16 (Upsampling Input Image)', 'Transfer Learning with Vgg16 and Fine Tuning']\n",
        "model_comparison_scores['model'] = ['brf', 'b_cnn', 'tl_1', 'tl_2', 'tl_3']"
      ],
      "execution_count": null,
      "outputs": []
    },
    {
      "cell_type": "code",
      "metadata": {
        "id": "y0bo0FFI4Yeb",
        "outputId": "4cd851df-36a2-44c2-90fe-768f29106c85",
        "colab": {
          "base_uri": "https://localhost:8080/",
          "height": 322
        }
      },
      "source": [
        "plt.figure(figsize=(8, 8))\n",
        "ax = model_comparison_scores.plot.barh(x='names', y='scores', color='grey')\n",
        "ax.get_children()[4].set_color('skyblue')\n",
        "ax.set_ylabel('Models', fontsize = 14)\n",
        "ax.set_xlabel('Balanced Accuracy Score (%)', fontsize = 14)\n",
        "ax.tick_params(axis='both', which='major', labelsize=14)\n",
        "ax.get_legend().remove()\n",
        "ax.set_title('Balanced Accuracy Scores for different models', fontsize = 14)\n",
        "\n",
        "plt.show()"
      ],
      "execution_count": null,
      "outputs": [
        {
          "output_type": "display_data",
          "data": {
            "text/plain": [
              "<Figure size 576x576 with 0 Axes>"
            ]
          },
          "metadata": {
            "tags": []
          }
        },
        {
          "output_type": "display_data",
          "data": {
            "image/png": "[encoded data removed]",
            "text/plain": [
              "<Figure size 432x288 with 1 Axes>"
            ]
          },
          "metadata": {
            "tags": [],
            "needs_background": "light"
          }
        }
      ]
    },
    {
      "cell_type": "markdown",
      "metadata": {
        "id": "PHH_tReK_8gV"
      },
      "source": [
        "## Bar graph comparing the F1 score for Transfer learning Vgg16 and baseline CNN\n",
        "\n"
      ]
    },
    {
      "cell_type": "code",
      "metadata": {
        "id": "YcXGXEgn4bjw"
      },
      "source": [
        "## Bar graph comparing the balanced accuracy score for each model\n",
        "f1_comparison_scores = pd.DataFrame()\n",
        "f1_comparison_scores['classes'] = ['Barren Land', 'Building', 'Grassland','Road','Trees','Water']\n",
        "f1_comparison_scores['b_cnn'] = [0.93,0.96,0.90,0.82,0.97,1.00]\n",
        "f1_comparison_scores['tl_3'] = [0.96,0.95,0.92,0.85,0.98,1.00]\n",
        "\n",
        "\n"
      ],
      "execution_count": null,
      "outputs": []
    },
    {
      "cell_type": "code",
      "metadata": {
        "id": "7_XUYVLB6KOy",
        "outputId": "e2eca067-45a7-4ef3-d8f0-d29b9753cd0a",
        "colab": {
          "base_uri": "https://localhost:8080/",
          "height": 238
        }
      },
      "source": [
        "f1_comparison_scores.head(6)"
      ],
      "execution_count": null,
      "outputs": [
        {
          "output_type": "execute_result",
          "data": {
            "text/html": [
              "<div>\n",
              "<style scoped>\n",
              "    .dataframe tbody tr th:only-of-type {\n",
              "        vertical-align: middle;\n",
              "    }\n",
              "\n",
              "    .dataframe tbody tr th {\n",
              "        vertical-align: top;\n",
              "    }\n",
              "\n",
              "    .dataframe thead th {\n",
              "        text-align: right;\n",
              "    }\n",
              "</style>\n",
              "<table border=\"1\" class=\"dataframe\">\n",
              "  <thead>\n",
              "    <tr style=\"text-align: right;\">\n",
              "      <th></th>\n",
              "      <th>classes</th>\n",
              "      <th>b_cnn</th>\n",
              "      <th>tl_3</th>\n",
              "    </tr>\n",
              "  </thead>\n",
              "  <tbody>\n",
              "    <tr>\n",
              "      <th>0</th>\n",
              "      <td>Barren Land</td>\n",
              "      <td>0.93</td>\n",
              "      <td>0.96</td>\n",
              "    </tr>\n",
              "    <tr>\n",
              "      <th>1</th>\n",
              "      <td>Building</td>\n",
              "      <td>0.96</td>\n",
              "      <td>0.95</td>\n",
              "    </tr>\n",
              "    <tr>\n",
              "      <th>2</th>\n",
              "      <td>Grassland</td>\n",
              "      <td>0.90</td>\n",
              "      <td>0.92</td>\n",
              "    </tr>\n",
              "    <tr>\n",
              "      <th>3</th>\n",
              "      <td>Road</td>\n",
              "      <td>0.82</td>\n",
              "      <td>0.85</td>\n",
              "    </tr>\n",
              "    <tr>\n",
              "      <th>4</th>\n",
              "      <td>Trees</td>\n",
              "      <td>0.97</td>\n",
              "      <td>0.98</td>\n",
              "    </tr>\n",
              "    <tr>\n",
              "      <th>5</th>\n",
              "      <td>Water</td>\n",
              "      <td>1.00</td>\n",
              "      <td>1.00</td>\n",
              "    </tr>\n",
              "  </tbody>\n",
              "</table>\n",
              "</div>"
            ],
            "text/plain": [
              "       classes  b_cnn  tl_3\n",
              "0  Barren Land   0.93  0.96\n",
              "1     Building   0.96  0.95\n",
              "2    Grassland   0.90  0.92\n",
              "3         Road   0.82  0.85\n",
              "4        Trees   0.97  0.98\n",
              "5        Water   1.00  1.00"
            ]
          },
          "metadata": {
            "tags": []
          },
          "execution_count": 56
        }
      ]
    },
    {
      "cell_type": "code",
      "metadata": {
        "id": "jDHFz2bCCQf0"
      },
      "source": [
        "f1_comparison_scores.set_index('classes', inplace=True)"
      ],
      "execution_count": null,
      "outputs": []
    },
    {
      "cell_type": "code",
      "metadata": {
        "id": "quTqwDiqA1VP",
        "outputId": "c2b7e541-61c4-46f9-ab50-49f215291acf",
        "colab": {
          "base_uri": "https://localhost:8080/",
          "height": 430
        }
      },
      "source": [
        "fig=plt.figure(figsize=(10,5))\n",
        "\n",
        "ax = fig.add_subplot(111) # Create matplotlib axes\n",
        "#ax2 = ax.twinx() # Create another axes that shares the same x-axis as ax.\n",
        "\n",
        "width = 0.25\n",
        "\n",
        "f1_comparison_scores.b_cnn.plot(kind='bar', color='lightgrey', ax=ax, width=width, position=1, label = 'Baseline CNN Model')\n",
        "f1_comparison_scores.tl_3.plot(kind='bar', color='lightblue', ax=ax, width=width, position=0, label = 'Transfer Learning with VGG16')\n",
        "\n",
        "ax.set_xlabel('Classes', fontsize  = 14)\n",
        "ax.set_ylabel('F1 Scores', fontsize  = 14)\n",
        "ax.legend(loc = 'best')\n",
        "ax.tick_params(axis='both', which='major', labelsize=14)\n",
        "\n",
        "#ax2.set_ylabel('Transfer Learning with Fine Tuning')\n",
        "\n",
        "ax.set_title('F1-Score comparison for Baseline CNN model and Transfer Learning with Fine Tuning', fontsize  = 14)\n",
        "\n",
        "plt.show()\n",
        "\n"
      ],
      "execution_count": null,
      "outputs": [
        {
          "output_type": "display_data",
          "data": {
            "image/png": "[encoded data removed]",
            "text/plain": [
              "<Figure size 720x360 with 1 Axes>"
            ]
          },
          "metadata": {
            "tags": [],
            "needs_background": "light"
          }
        }
      ]
    },
    {
      "cell_type": "code",
      "metadata": {
        "id": "58L8nBYjBSV0"
      },
      "source": [
        ""
      ],
      "execution_count": null,
      "outputs": []
    }
  ]
}