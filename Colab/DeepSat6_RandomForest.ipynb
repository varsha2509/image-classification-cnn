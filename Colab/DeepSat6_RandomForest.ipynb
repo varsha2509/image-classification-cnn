{
  "nbformat": 4,
  "nbformat_minor": 0,
  "metadata": {
    "colab": {
      "name": "DeepSat6-RandomForest.ipynb",
      "provenance": [],
      "collapsed_sections": [],
      "toc_visible": true,
      "authorship_tag": "ABX9TyOeE/LB5zPmI5ym88CPpDHb",
      "include_colab_link": true
    },
    "kernelspec": {
      "name": "python3",
      "display_name": "Python 3"
    }
  },
  "cells": [
    {
      "cell_type": "markdown",
      "metadata": {
        "id": "view-in-github",
        "colab_type": "text"
      },
      "source": [
        "<a href=\"https://colab.research.google.com/github/varsha2509/Springboard-DS/blob/master/Capstone2/Colab/DeepSat6_RandomForest.ipynb\" target=\"_parent\"><img src=\"https://colab.research.google.com/assets/colab-badge.svg\" alt=\"Open In Colab\"/></a>"
      ]
    },
    {
      "cell_type": "code",
      "metadata": {
        "id": "YkiOj5y5r8mq",
        "outputId": "6d131e81-1c12-422e-dcda-297f3909f8ab",
        "colab": {
          "base_uri": "https://localhost:8080/",
          "height": 35
        }
      },
      "source": [
        "#Install Packages and Mount Google Drive\n",
        "import pandas as pd\n",
        "import numpy as np\n",
        "import cv2\n",
        "import h5py\n",
        "import csv\n",
        "from scipy.io import loadmat\n",
        "import matplotlib.pyplot as plt \n",
        "from google.colab import drive\n",
        "import os\n",
        "\n",
        "from sklearn.ensemble import RandomForestClassifier\n",
        "from sklearn.pipeline import Pipeline\n",
        "from sklearn.metrics import recall_score, precision_score, f1_score\n",
        "from sklearn.metrics import balanced_accuracy_score\n",
        "\n",
        "\n",
        "from skimage.io import imread\n",
        "\n",
        "from glob import glob\n",
        "\n",
        "from sklearn.metrics import classification_report, confusion_matrix, accuracy_score\n",
        "\n",
        "os.environ['KAGGLE_CONFIG_DIR'] = \"/content/gdrive/My Drive/Springboard/Capstone Projects/Capstone-2/DeepSat-6-Dataset/\"\n",
        "\n",
        "#Mount the drive to colab notebook\n",
        "drive.mount('/content/gdrive')\n"
      ],
      "execution_count": 1,
      "outputs": [
        {
          "output_type": "stream",
          "text": [
            "Mounted at /content/gdrive\n"
          ],
          "name": "stdout"
        }
      ]
    },
    {
      "cell_type": "code",
      "metadata": {
        "id": "7cJN3P7dsAGf",
        "outputId": "149d9bb5-fb11-44eb-ebe2-1970015241e6",
        "colab": {
          "base_uri": "https://localhost:8080/",
          "height": 35
        }
      },
      "source": [
        "#Change the current working directory\n",
        "%cd /content/gdrive/My\\ Drive/Springboard/Capstone\\ Projects/Capstone-2/DeepSat-6-Dataset/\n"
      ],
      "execution_count": 3,
      "outputs": [
        {
          "output_type": "stream",
          "text": [
            "/content/gdrive/My Drive/Springboard/Capstone Projects/Capstone-2/DeepSat-6-Dataset\n"
          ],
          "name": "stdout"
        }
      ]
    },
    {
      "cell_type": "markdown",
      "metadata": {
        "id": "7AfTTPiJC6nD"
      },
      "source": [
        "# Read input files"
      ]
    },
    {
      "cell_type": "markdown",
      "metadata": {
        "id": "eJEyjxWuC0M1"
      },
      "source": [
        "## Function to read subset of csv file, both train and test data"
      ]
    },
    {
      "cell_type": "code",
      "metadata": {
        "id": "Tqa7MnUOsFPE",
        "outputId": "fc31904b-d0f0-42af-cdb3-21e033e9edc0",
        "colab": {
          "base_uri": "https://localhost:8080/",
          "height": 53
        }
      },
      "source": [
        "## Create a function to read 5000 rows from csv file\n",
        "\n",
        "def read_csv_x_y(path, nrows = 5000):\n",
        "  \"\"\" path can be 'X_train_sat6.csv, y_train,sat6.csv\n",
        "      X_test_sat6.csv, y_test_sat6.csv\"\"\"\n",
        "  input_df = pd.read_csv(path, nrows = nrows, header = None)\n",
        "  X = input_df.values.reshape(-1, 28, 28, 4).clip(0,255).astype(np.uint8) #This moves the position of the last column to the first, and clips the RGB values between (0,255)\n",
        "  y = np.argmax(pd.read_csv(path.replace('X_', 'y_'), nrows = nrows, header = None).values,1) #This determines the position or index where 1 appears, to map the categories to names\n",
        "\n",
        "  return X, y\n",
        "\n",
        "\n",
        "Xtrain, ytrain = read_csv_x_y('X_train_sat6.csv', 16)\n",
        "print(ytrain.dtype)\n",
        "\n",
        "print(Xtrain.shape, ytrain.shape)\n",
        "\n",
        "\n",
        "\n",
        "\n",
        "\n",
        "\n",
        "\n"
      ],
      "execution_count": 4,
      "outputs": [
        {
          "output_type": "stream",
          "text": [
            "int64\n",
            "(16, 28, 28, 4) (16,)\n"
          ],
          "name": "stdout"
        }
      ]
    },
    {
      "cell_type": "code",
      "metadata": {
        "id": "CUm0780jEQ3W",
        "outputId": "e427fceb-2193-45ff-cfb7-c6df815221d1",
        "colab": {
          "base_uri": "https://localhost:8080/",
          "height": 125
        }
      },
      "source": [
        "## Read annotations\n",
        "annotations = pd.read_csv('sat6annotations.csv', header = None)\n",
        "annotations.head(10)\n",
        "\n",
        "# #Create a dictionary with values as land categories\n",
        "land_categories = dict()\n",
        "for idx, an in enumerate(annotations[0]):\n",
        "  land_categories[idx] = an\n",
        "land_categories"
      ],
      "execution_count": 5,
      "outputs": [
        {
          "output_type": "execute_result",
          "data": {
            "text/plain": [
              "{0: 'building',\n",
              " 1: 'barren_land',\n",
              " 2: 'trees',\n",
              " 3: 'grassland',\n",
              " 4: 'road',\n",
              " 5: 'water'}"
            ]
          },
          "metadata": {
            "tags": []
          },
          "execution_count": 5
        }
      ]
    },
    {
      "cell_type": "markdown",
      "metadata": {
        "id": "hBQM4GfcC-GP"
      },
      "source": [
        "## Map test and train data with label names"
      ]
    },
    {
      "cell_type": "code",
      "metadata": {
        "id": "b3xQ4spTFbu4"
      },
      "source": [
        "#Map ytrain and ytest with label names\n",
        "ytrain_cat = pd.DataFrame(ytrain)[0].map(land_categories)\n",
        "#ytest_cat = pd.DataFrame(ytest).idxmax(axis=1).map(land_categories)"
      ],
      "execution_count": 6,
      "outputs": []
    },
    {
      "cell_type": "markdown",
      "metadata": {
        "id": "VhnFY2veDBDQ"
      },
      "source": [
        "## Plot sample images"
      ]
    },
    {
      "cell_type": "code",
      "metadata": {
        "id": "TWCXqY0yuAo5",
        "outputId": "a2c5b2ad-1199-470c-b036-63f08bcdbf42",
        "colab": {
          "base_uri": "https://localhost:8080/",
          "height": 699
        }
      },
      "source": [
        "fig, ax = plt.subplots(4, Xtrain.shape[0]//4, figsize = (12, 12))\n",
        "for (x, Y, c_ax) in zip(Xtrain, ytrain_cat, ax.flatten()):\n",
        "    c_ax.imshow(x[:,:,:3], # \n",
        "                interpolation = 'none')\n",
        "    c_ax.axis('off')\n",
        "    c_ax.set_title('Class:{}'.format(Y))\n"
      ],
      "execution_count": 7,
      "outputs": [
        {
          "output_type": "display_data",
          "data": {
            "image/png": "[encoded data removed]",
            "text/plain": [
              "<Figure size 864x864 with 16 Axes>"
            ]
          },
          "metadata": {
            "tags": [],
            "needs_background": "light"
          }
        }
      ]
    },
    {
      "cell_type": "markdown",
      "metadata": {
        "id": "sFq4q_HqHRhp"
      },
      "source": [
        "#Training a Random Forest"
      ]
    },
    {
      "cell_type": "code",
      "metadata": {
        "id": "4anhQnAfwApi"
      },
      "source": [
        "Xtrain, ytrain = read_csv_x_y('X_train_sat6.csv', 20000)"
      ],
      "execution_count": 8,
      "outputs": []
    },
    {
      "cell_type": "code",
      "metadata": {
        "id": "yQqJXGyMQJcw"
      },
      "source": [
        "#Map numbers to categories\n",
        "ytrain_cat = pd.DataFrame(ytrain)[0].map(land_categories)"
      ],
      "execution_count": 9,
      "outputs": []
    },
    {
      "cell_type": "code",
      "metadata": {
        "id": "xiUElOq8Jn_S",
        "outputId": "a38d17ac-c0d7-4a66-8bdd-b166e62fbffb",
        "colab": {
          "base_uri": "https://localhost:8080/",
          "height": 160
        }
      },
      "source": [
        "# Create a simple random forest model\n",
        "clf  = RandomForestClassifier(n_estimators=100, max_depth = 10)\n",
        "\n",
        "# Random forest model training\n",
        "clf.fit(Xtrain.reshape((-1, np.prod(Xtrain.shape[1:]))), ytrain_cat)"
      ],
      "execution_count": 10,
      "outputs": [
        {
          "output_type": "execute_result",
          "data": {
            "text/plain": [
              "RandomForestClassifier(bootstrap=True, ccp_alpha=0.0, class_weight=None,\n",
              "                       criterion='gini', max_depth=10, max_features='auto',\n",
              "                       max_leaf_nodes=None, max_samples=None,\n",
              "                       min_impurity_decrease=0.0, min_impurity_split=None,\n",
              "                       min_samples_leaf=1, min_samples_split=2,\n",
              "                       min_weight_fraction_leaf=0.0, n_estimators=100,\n",
              "                       n_jobs=None, oob_score=False, random_state=None,\n",
              "                       verbose=0, warm_start=False)"
            ]
          },
          "metadata": {
            "tags": []
          },
          "execution_count": 10
        }
      ]
    },
    {
      "cell_type": "code",
      "metadata": {
        "id": "gFPtw0ucMLpc"
      },
      "source": [
        "#Load the test data\n",
        "Xtest, ytest = read_csv_x_y('X_test_sat6.csv', None)"
      ],
      "execution_count": 11,
      "outputs": []
    },
    {
      "cell_type": "code",
      "metadata": {
        "id": "6I8M-XY_QYjv"
      },
      "source": [
        "#Map numbers to categories\n",
        "ytest_cat = pd.DataFrame(ytest)[0].map(land_categories)"
      ],
      "execution_count": 12,
      "outputs": []
    },
    {
      "cell_type": "markdown",
      "metadata": {
        "id": "-GI44_TtDILv"
      },
      "source": [
        "## Make predictions on test dataset"
      ]
    },
    {
      "cell_type": "code",
      "metadata": {
        "id": "GPmh3GH5Nsus"
      },
      "source": [
        "#Make predictions on Xtest\n",
        "pred_Y =clf.predict(Xtest.reshape((-1, np.prod(Xtest.shape[1:]))))"
      ],
      "execution_count": 13,
      "outputs": []
    },
    {
      "cell_type": "markdown",
      "metadata": {
        "id": "BXuFykomDKYY"
      },
      "source": [
        "## Classification Report, Accuracy and Confusion Matrix"
      ]
    },
    {
      "cell_type": "code",
      "metadata": {
        "id": "MC1wwe4XN5jd",
        "outputId": "e70615f5-50bb-4ac6-8ab8-c636c56f54f3",
        "colab": {
          "base_uri": "https://localhost:8080/",
          "height": 250
        }
      },
      "source": [
        "#Print classification report\n",
        "print(classification_report(ytest_cat, pred_Y))"
      ],
      "execution_count": 14,
      "outputs": [
        {
          "output_type": "stream",
          "text": [
            "              precision    recall  f1-score   support\n",
            "\n",
            " barren_land       0.97      0.94      0.96     18367\n",
            "    building       0.91      0.95      0.93      3714\n",
            "   grassland       0.89      0.84      0.87     12596\n",
            "        road       0.90      0.65      0.75      2070\n",
            "       trees       0.90      0.98      0.94     14185\n",
            "       water       0.99      1.00      0.99     30068\n",
            "\n",
            "    accuracy                           0.95     81000\n",
            "   macro avg       0.93      0.89      0.91     81000\n",
            "weighted avg       0.95      0.95      0.95     81000\n",
            "\n"
          ],
          "name": "stdout"
        }
      ]
    },
    {
      "cell_type": "code",
      "metadata": {
        "id": "ZH4KRd2cObKj",
        "outputId": "77308b83-98f2-46fd-c4d6-a206e9e88a96",
        "colab": {
          "base_uri": "https://localhost:8080/",
          "height": 35
        }
      },
      "source": [
        "#Print overall accuracy\n",
        "print('Overall Accuracy: %2.2f%%'  % (100*accuracy_score(ytest_cat, pred_Y)))"
      ],
      "execution_count": 15,
      "outputs": [
        {
          "output_type": "stream",
          "text": [
            "Overall Accuracy: 94.77%\n"
          ],
          "name": "stdout"
        }
      ]
    },
    {
      "cell_type": "code",
      "metadata": {
        "id": "jbwTgQOysRX1",
        "outputId": "21f4a22e-6a72-4129-cf83-bf74c108d2f9",
        "colab": {
          "base_uri": "https://localhost:8080/",
          "height": 35
        }
      },
      "source": [
        "#Print Balanced accuracy\n",
        "print('Balanced Accuracy: %2.2f%%' % (100*balanced_accuracy_score(ytest_cat, pred_Y)))"
      ],
      "execution_count": 16,
      "outputs": [
        {
          "output_type": "stream",
          "text": [
            "Balanced Accuracy: 89.43%\n"
          ],
          "name": "stdout"
        }
      ]
    },
    {
      "cell_type": "code",
      "metadata": {
        "id": "Oq0d1UjwOqyt",
        "outputId": "a0836126-be65-4586-f6eb-98e1482aaa15",
        "colab": {
          "base_uri": "https://localhost:8080/",
          "height": 369
        }
      },
      "source": [
        "#Plot confusion matrix\n",
        "cm = confusion_matrix(ytest_cat, pred_Y)\n",
        "\n",
        "fig, ax = plt.subplots(figsize = (5,5))\n",
        "im = ax.imshow(cm, cmap = plt.cm.nipy_spectral_r)\n",
        "\n",
        "# We want to show all ticks...\n",
        "ax.set_xticks(np.arange(len(land_categories)))\n",
        "ax.set_yticks(np.arange(len(land_categories)))\n",
        "# ... and label them with the respective list entries\n",
        "ax.set_xticklabels(['barren land','building','grassland','road','trees','water'])\n",
        "ax.set_yticklabels(['barren land','building','grassland','road','trees','water'])\n",
        "\n",
        "# Rotate the tick labels and set their alignment.\n",
        "plt.setp(ax.get_xticklabels(), rotation=45, ha=\"right\",\n",
        "         rotation_mode=\"anchor\")\n",
        "\n",
        "# Loop over data dimensions and create text annotations.\n",
        "for i in range(len(cm)):\n",
        "    for j in range(len(cm)):\n",
        "        text = ax.text(j, i, cm[i, j],\n",
        "                       ha=\"center\", va=\"center\", color=\"w\")\n",
        "\n",
        "ax.set_title(\"Confusion Matrix for BRF Model\")\n",
        "fig.tight_layout()\n",
        "plt.show()"
      ],
      "execution_count": 25,
      "outputs": [
        {
          "output_type": "display_data",
          "data": {
            "image/png": "[encoded data removed]",
            "text/plain": [
              "<Figure size 360x360 with 1 Axes>"
            ]
          },
          "metadata": {
            "tags": [],
            "needs_background": "light"
          }
        }
      ]
    },
    {
      "cell_type": "markdown",
      "metadata": {
        "id": "4H7klwSQDYDd"
      },
      "source": [
        "## Determine Prediction Errors"
      ]
    },
    {
      "cell_type": "code",
      "metadata": {
        "id": "jc0X_eb3OwG8"
      },
      "source": [
        "#Create dataframe to store actual and predicted categories\n",
        "prediction_err  = pd.DataFrame()\n",
        "prediction_err = prediction_err.append([ytest_cat, pred_Y]).T\n",
        "prediction_err.columns = ['Actual','Predicted']"
      ],
      "execution_count": 21,
      "outputs": []
    },
    {
      "cell_type": "code",
      "metadata": {
        "id": "z-n4dUnkDi3h",
        "outputId": "5a94e9aa-053b-4678-cc7a-129c631c27e9",
        "colab": {
          "base_uri": "https://localhost:8080/",
          "height": 206
        }
      },
      "source": [
        "prediction_err.head()"
      ],
      "execution_count": 22,
      "outputs": [
        {
          "output_type": "execute_result",
          "data": {
            "text/html": [
              "<div>\n",
              "<style scoped>\n",
              "    .dataframe tbody tr th:only-of-type {\n",
              "        vertical-align: middle;\n",
              "    }\n",
              "\n",
              "    .dataframe tbody tr th {\n",
              "        vertical-align: top;\n",
              "    }\n",
              "\n",
              "    .dataframe thead th {\n",
              "        text-align: right;\n",
              "    }\n",
              "</style>\n",
              "<table border=\"1\" class=\"dataframe\">\n",
              "  <thead>\n",
              "    <tr style=\"text-align: right;\">\n",
              "      <th></th>\n",
              "      <th>Actual</th>\n",
              "      <th>Predicted</th>\n",
              "    </tr>\n",
              "  </thead>\n",
              "  <tbody>\n",
              "    <tr>\n",
              "      <th>0</th>\n",
              "      <td>trees</td>\n",
              "      <td>trees</td>\n",
              "    </tr>\n",
              "    <tr>\n",
              "      <th>1</th>\n",
              "      <td>trees</td>\n",
              "      <td>trees</td>\n",
              "    </tr>\n",
              "    <tr>\n",
              "      <th>2</th>\n",
              "      <td>water</td>\n",
              "      <td>water</td>\n",
              "    </tr>\n",
              "    <tr>\n",
              "      <th>3</th>\n",
              "      <td>barren_land</td>\n",
              "      <td>barren_land</td>\n",
              "    </tr>\n",
              "    <tr>\n",
              "      <th>4</th>\n",
              "      <td>water</td>\n",
              "      <td>water</td>\n",
              "    </tr>\n",
              "  </tbody>\n",
              "</table>\n",
              "</div>"
            ],
            "text/plain": [
              "        Actual    Predicted\n",
              "0        trees        trees\n",
              "1        trees        trees\n",
              "2        water        water\n",
              "3  barren_land  barren_land\n",
              "4        water        water"
            ]
          },
          "metadata": {
            "tags": []
          },
          "execution_count": 22
        }
      ]
    },
    {
      "cell_type": "code",
      "metadata": {
        "id": "PjFWfg9yEDxz",
        "outputId": "b36384ac-1789-4b9c-fca4-26c19863cde6",
        "colab": {
          "base_uri": "https://localhost:8080/",
          "height": 35
        }
      },
      "source": [
        "#Determine mismatches by comapring both labels\n",
        "pred_mismatch = prediction_err.loc[(prediction_err.Actual != prediction_err.Predicted)]\n",
        "print('Overall total mismatches:' , (len(pred_mismatch)))"
      ],
      "execution_count": 23,
      "outputs": [
        {
          "output_type": "stream",
          "text": [
            "Overall total mismatches: 4233\n"
          ],
          "name": "stdout"
        }
      ]
    },
    {
      "cell_type": "code",
      "metadata": {
        "id": "bqs28QHdEGgT",
        "outputId": "e8178359-c70e-4fb5-b23f-dd545202a594",
        "colab": {
          "base_uri": "https://localhost:8080/",
          "height": 206
        }
      },
      "source": [
        "#Create a dataframe of total mismatches using group by\n",
        "mismatch_df = pred_mismatch.groupby(['Actual']).describe().reset_index()\n",
        "\n",
        "\n",
        "#Drop columns that are not needed\n",
        "mismatch_df = mismatch_df.drop(mismatch_df.columns[[2,4,3]], axis = 1)\n",
        "\n",
        "\n",
        "##Rename columns\n",
        "mismatch_df.columns = [('Class'), ('Total Mismatches')]\n",
        "\n",
        "mismatch_df.head()"
      ],
      "execution_count": 24,
      "outputs": [
        {
          "output_type": "execute_result",
          "data": {
            "text/html": [
              "<div>\n",
              "<style scoped>\n",
              "    .dataframe tbody tr th:only-of-type {\n",
              "        vertical-align: middle;\n",
              "    }\n",
              "\n",
              "    .dataframe tbody tr th {\n",
              "        vertical-align: top;\n",
              "    }\n",
              "\n",
              "    .dataframe thead th {\n",
              "        text-align: right;\n",
              "    }\n",
              "</style>\n",
              "<table border=\"1\" class=\"dataframe\">\n",
              "  <thead>\n",
              "    <tr style=\"text-align: right;\">\n",
              "      <th></th>\n",
              "      <th>Class</th>\n",
              "      <th>Total Mismatches</th>\n",
              "    </tr>\n",
              "  </thead>\n",
              "  <tbody>\n",
              "    <tr>\n",
              "      <th>0</th>\n",
              "      <td>barren_land</td>\n",
              "      <td>1023</td>\n",
              "    </tr>\n",
              "    <tr>\n",
              "      <th>1</th>\n",
              "      <td>building</td>\n",
              "      <td>182</td>\n",
              "    </tr>\n",
              "    <tr>\n",
              "      <th>2</th>\n",
              "      <td>grassland</td>\n",
              "      <td>1968</td>\n",
              "    </tr>\n",
              "    <tr>\n",
              "      <th>3</th>\n",
              "      <td>road</td>\n",
              "      <td>724</td>\n",
              "    </tr>\n",
              "    <tr>\n",
              "      <th>4</th>\n",
              "      <td>trees</td>\n",
              "      <td>336</td>\n",
              "    </tr>\n",
              "  </tbody>\n",
              "</table>\n",
              "</div>"
            ],
            "text/plain": [
              "         Class Total Mismatches\n",
              "0  barren_land             1023\n",
              "1     building              182\n",
              "2    grassland             1968\n",
              "3         road              724\n",
              "4        trees              336"
            ]
          },
          "metadata": {
            "tags": []
          },
          "execution_count": 24
        }
      ]
    },
    {
      "cell_type": "code",
      "metadata": {
        "id": "aGtBSVBLEKCv"
      },
      "source": [
        ""
      ],
      "execution_count": 24,
      "outputs": []
    }
  ]
}